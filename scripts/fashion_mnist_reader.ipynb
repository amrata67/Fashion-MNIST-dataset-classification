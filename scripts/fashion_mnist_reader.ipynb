{
 "cells": [
  {
   "cell_type": "markdown",
   "metadata": {},
   "source": [
    "# PROJECT 2 : \n",
    "## Neural network and convolutional neural network for the task of classification on fashion MNIST dataset."
   ]
  },
  {
   "cell_type": "code",
   "execution_count": 1,
   "metadata": {},
   "outputs": [],
   "source": [
    "# Read Fashion MNIST dataset\n",
    "import numpy as np\n",
    "import pandas as pd\n",
    "import math\n",
    "import matplotlib.pyplot as plt\n",
    "import util_mnist_reader\n",
    "import scipy as sp\n"
   ]
  },
  {
   "cell_type": "markdown",
   "metadata": {},
   "source": [
    "## Extract features and labels & Data Scaling:\n",
    "The given raw data is classified into labels(Y) and the features(X). All the features combinedly define a label.\n",
    "The label set Y has 10 classes to which the features are classified into.  This Y is converted into One dimensional hot vector.Similarly, the feature set X has values ranging from 0-255, which is normalized by dividing each feature value by 255."
   ]
  },
  {
   "cell_type": "code",
   "execution_count": 2,
   "metadata": {},
   "outputs": [
    {
     "data": {
      "image/png": "[encoded data removed]",
      "text/plain": [
       "<Figure size 432x288 with 1 Axes>"
      ]
     },
     "metadata": {
      "needs_background": "light"
     },
     "output_type": "display_data"
    }
   ],
   "source": [
    "X_train, y_train = util_mnist_reader.load_mnist('../data/fashion', kind='train')\n",
    "X_test, y_test = util_mnist_reader.load_mnist('../data/fashion', kind='t10k')\n",
    "X_train=X_train/255.0\n",
    "X_test=X_test/255.0\n",
    "\n",
    "\n",
    "#creating 1d Hot vector of Y train\n",
    "a = np.array(y_train)\n",
    "b = np.zeros((60000, 10))\n",
    "b[np.arange(60000), a] = 1\n",
    "y_train=b\n",
    "\n",
    "def check_img(i):\n",
    "    img=X_train[i].reshape((28,28))\n",
    "    plt.imshow(img)\n",
    "    plt.show()\n",
    "\n",
    "#sample of one image in the dataset\n",
    "check_img(1)\n"
   ]
  },
  {
   "cell_type": "markdown",
   "metadata": {},
   "source": [
    "## Train using Neural Network with One Hidden Layer\n",
    "In the first part of the project we have designed a Neural network consist of one hidden layer with 200 hidden nodes and learning rate= 0.001. The entire input is divided into batches of size 1000. Hence, we have 60 batches of data in each epoch.\n",
    "\n",
    "Passing through various mathematical functions for activation in forward propagation and adjusting the weights and reducing the loss in backward propagation rigorously provides the best set of weights which can be used to recognize any unseen pattern"
   ]
  },
  {
   "cell_type": "code",
   "execution_count": 3,
   "metadata": {},
   "outputs": [],
   "source": [
    "#initialization\n",
    "\n",
    "no_of_epoch=50\n",
    "lr=0.001\n",
    "no_of_hiddennode=200\n",
    "no_of_class=10\n",
    "batch_size=1000\n",
    "batches=int(X_train.shape[0]/batch_size)\n",
    "\n",
    "weights1 = np.random.uniform(-1.0,1.0,(X_train.shape[1], no_of_hiddennode)) # random.rand gives -1 to 1\n",
    "weights2 = np.random.uniform(-1.0,1.0,(no_of_hiddennode,no_of_class))\n",
    "bias1= np.ones(shape=(batch_size, no_of_hiddennode))\n",
    "# print(weights1)\n",
    "# print(bias1.shape)\n",
    "\n",
    "def sigmoid(z):\n",
    "    sigmoid = 1 / (1 + np.exp(-z.astype(float)))\n",
    "    return sigmoid\n",
    "\n",
    "def softmax(z):\n",
    "    e_x = np.exp(z -np.max(z))\n",
    "    return e_x/e_x.sum(axis=0)\n",
    "\n",
    "def loss(a,y):\n",
    "    m=y.shape[0]\n",
    "    error=np.multiply (y,sp.log(a2))\n",
    "    loss=(-1/m)*error\n",
    "    return np.sum(loss)\n"
   ]
  },
  {
   "cell_type": "code",
   "execution_count": 4,
   "metadata": {},
   "outputs": [
    {
     "name": "stdout",
     "output_type": "stream",
     "text": [
      "Loss at Epoch 0 is 324.89339564281516\n",
      "Loss at Epoch 1 is 96.34253031571306\n",
      "Loss at Epoch 2 is 84.16440021496082\n",
      "Loss at Epoch 3 is 71.31082702916447\n",
      "Loss at Epoch 4 is 67.04768590012252\n",
      "Loss at Epoch 5 is 61.92043685762248\n",
      "Loss at Epoch 6 is 58.52608875637315\n",
      "Loss at Epoch 7 is 56.158029235003546\n",
      "Loss at Epoch 8 is 53.8817727673793\n",
      "Loss at Epoch 9 is 51.82736913280655\n",
      "Loss at Epoch 10 is 50.073992177333466\n",
      "Loss at Epoch 11 is 48.57077645442458\n",
      "Loss at Epoch 12 is 47.26444454898168\n",
      "Loss at Epoch 13 is 46.103785704132605\n",
      "Loss at Epoch 14 is 45.041131144963124\n",
      "Loss at Epoch 15 is 44.03353463046121\n",
      "Loss at Epoch 16 is 43.052829165552694\n",
      "Loss at Epoch 17 is 41.90968380973356\n",
      "Loss at Epoch 18 is 41.50771684845044\n",
      "Loss at Epoch 19 is 40.76191329326307\n",
      "Loss at Epoch 20 is 41.523080068150314\n",
      "Loss at Epoch 21 is 39.96390990150199\n",
      "Loss at Epoch 22 is 40.220438304606525\n",
      "Loss at Epoch 23 is 39.08654659428909\n",
      "Loss at Epoch 24 is 39.10800166251963\n",
      "Loss at Epoch 25 is 38.285969471320556\n",
      "Loss at Epoch 26 is 38.01950561920591\n",
      "Loss at Epoch 27 is 37.56753839959775\n",
      "Loss at Epoch 28 is 36.05290142316889\n",
      "Loss at Epoch 29 is 37.43419879620504\n",
      "Loss at Epoch 30 is 36.55569512842521\n",
      "Loss at Epoch 31 is 35.663000838498185\n",
      "Loss at Epoch 32 is 34.31758620761268\n",
      "Loss at Epoch 33 is 36.547615703138035\n",
      "Loss at Epoch 34 is 35.34521028092361\n",
      "Loss at Epoch 35 is 34.62121229487568\n",
      "Loss at Epoch 36 is 34.1786145227253\n",
      "Loss at Epoch 37 is 33.699072552586024\n",
      "Loss at Epoch 38 is 34.27640371181837\n",
      "Loss at Epoch 39 is 33.92176615549993\n",
      "Loss at Epoch 40 is 33.3089583817007\n",
      "Loss at Epoch 41 is 32.95538385928881\n",
      "Loss at Epoch 42 is 32.56744590916519\n",
      "Loss at Epoch 43 is 32.57378226282919\n",
      "Loss at Epoch 44 is 32.68315456042063\n",
      "Loss at Epoch 45 is 33.17438164641659\n",
      "Loss at Epoch 46 is 32.35292354064699\n",
      "Loss at Epoch 47 is 31.594658309136822\n",
      "Loss at Epoch 48 is 31.692305183655378\n",
      "Loss at Epoch 49 is 31.53413540930545\n",
      "End\n"
     ]
    }
   ],
   "source": [
    "#training code for defined epochs (takes around 4-5 mins for 50 epochs )\n",
    "##notice the reducing loss with increase in the epoch\n",
    "loss_array=[]\n",
    "for epoch in range(no_of_epoch):\n",
    "    batch_loss_array=[]\n",
    "    \n",
    "    for batch_no in range(batches):\n",
    "        X_batch_train= X_train[(batch_no * batch_size):(batch_no * batch_size + batch_size )]\n",
    "        Y_batch_train= y_train[(batch_no * batch_size):(batch_no * batch_size + batch_size )]           \n",
    "\n",
    "    \n",
    "        z = np.dot(weights1.T, X_batch_train.T)\n",
    "        a1= sigmoid(z)\n",
    "        \n",
    "        z2= np.dot(weights2.T,a1)\n",
    "        a2= softmax(z2)\n",
    "     \n",
    "        loss=-np.sum(np.multiply(np.log(a2),Y_batch_train.T), axis=1) \n",
    "        loss[np.isnan(loss)]=0\n",
    "        loss_mean=np.mean(loss)\n",
    "        \n",
    "#       loss=(((a2 - Y_batch_train.T)**2).mean(axis=1))\n",
    "#       loss_mean=np.mean(loss)\n",
    "#       print(loss_mean)\n",
    "        batch_loss_array.append(loss_mean)\n",
    "       \n",
    "        m=(a1*(1-a1))\n",
    "        delta_weights2=np.dot((a2 - Y_batch_train.T),a1.T).T\n",
    "        delta_weights1 = np.dot(np.dot(weights2, a2-Y_batch_train.T)*m,X_batch_train).T\n",
    "       \n",
    "        weights2=weights2-lr*delta_weights2\n",
    "        weights1=weights1-lr*delta_weights1\n",
    "        \n",
    "    print(\"Loss at Epoch\", epoch, \"is\" ,np.mean(batch_loss_array))\n",
    "    loss_array.append(np.mean(batch_loss_array))\n",
    "    \n",
    "# print(a1.shape, 'a1')\n",
    "# print(a2.shape, 'a2')\n",
    "# print(weights1.shape,\"W1\")\n",
    "# print(weights2.shape,\"W2\")\n",
    "# print(delta_weights2.shape,\"DW2\")\n",
    "# print(delta_weights1.shape,\"DW1\")\n",
    "# print(X_batch_train.shape,\"X\")\n",
    "# print(Y_batch_train.shape,\"Y\")\n",
    "print('End')"
   ]
  },
  {
   "cell_type": "code",
   "execution_count": 5,
   "metadata": {},
   "outputs": [
    {
     "data": {
      "text/plain": [
       "Text(0.5, 0, 'No of Epoch')"
      ]
     },
     "execution_count": 5,
     "metadata": {},
     "output_type": "execute_result"
    },
    {
     "data": {
      "image/png": "[encoded data removed]",
      "text/plain": [
       "<Figure size 432x288 with 1 Axes>"
      ]
     },
     "metadata": {
      "needs_background": "light"
     },
     "output_type": "display_data"
    }
   ],
   "source": [
    "#plot a graph Loss vs Epoch\n",
    "epoch = [i for i in range(no_of_epoch)]\n",
    "plt.plot(epoch, loss_array, 'g')\n",
    "plt.title('Loss vs Epoch')\n",
    "plt.ylabel('Loss')\n",
    "plt.xlabel(\"No of Epoch\")"
   ]
  },
  {
   "cell_type": "markdown",
   "metadata": {},
   "source": [
    "## Test for the correctness of model\n",
    "After training the model we test the accuracy of the prediction made by the model using test data and refined weights."
   ]
  },
  {
   "cell_type": "code",
   "execution_count": 6,
   "metadata": {},
   "outputs": [],
   "source": [
    "def predict(X_test,y_test):\n",
    "    z = np.dot(weights1.T, X_test.T)\n",
    "    a1= sigmoid(z)\n",
    "    z2= np.dot(weights2.T,a1)\n",
    "    a2= softmax(z2)\n",
    "    max_a=np.argmax(a2.T, axis=1)\n",
    "    return ((y_test==max_a).mean())"
   ]
  },
  {
   "cell_type": "code",
   "execution_count": 7,
   "metadata": {},
   "outputs": [
    {
     "name": "stdout",
     "output_type": "stream",
     "text": [
      "Test Accuracy= 83.57 Percent\n"
     ]
    }
   ],
   "source": [
    "mean_accuracy =predict(X_test,y_test)\n",
    "print(\"Test Accuracy=\" ,mean_accuracy*100.0 ,\"Percent\")"
   ]
  },
  {
   "cell_type": "markdown",
   "metadata": {},
   "source": [
    "### Match the test accuracy with confusion matrix accuracy "
   ]
  },
  {
   "cell_type": "code",
   "execution_count": 8,
   "metadata": {},
   "outputs": [
    {
     "ename": "NameError",
     "evalue": "name 'max_a' is not defined",
     "output_type": "error",
     "traceback": [
      "\u001b[1;31m---------------------------------------------------------------------------\u001b[0m",
      "\u001b[1;31mNameError\u001b[0m                                 Traceback (most recent call last)",
      "\u001b[1;32m<ipython-input-8-c2eee69a23e0>\u001b[0m in \u001b[0;36m<module>\u001b[1;34m\u001b[0m\n\u001b[0;32m      1\u001b[0m \u001b[1;32mfrom\u001b[0m \u001b[0msklearn\u001b[0m\u001b[1;33m.\u001b[0m\u001b[0mmetrics\u001b[0m \u001b[1;32mimport\u001b[0m \u001b[0mconfusion_matrix\u001b[0m\u001b[1;33m\u001b[0m\u001b[1;33m\u001b[0m\u001b[0m\n\u001b[1;32m----> 2\u001b[1;33m \u001b[0mconfusion_matrix\u001b[0m \u001b[1;33m=\u001b[0m \u001b[0mconfusion_matrix\u001b[0m\u001b[1;33m(\u001b[0m\u001b[0my_test\u001b[0m\u001b[1;33m,\u001b[0m\u001b[0mmax_a\u001b[0m\u001b[1;33m)\u001b[0m\u001b[1;33m\u001b[0m\u001b[1;33m\u001b[0m\u001b[0m\n\u001b[0m\u001b[0;32m      3\u001b[0m \u001b[0mprint\u001b[0m\u001b[1;33m(\u001b[0m\u001b[0mconfusion_matrix\u001b[0m\u001b[1;33m)\u001b[0m\u001b[1;33m\u001b[0m\u001b[1;33m\u001b[0m\u001b[0m\n\u001b[0;32m      4\u001b[0m \u001b[0mN_correct\u001b[0m\u001b[1;33m=\u001b[0m\u001b[0mconfusion_matrix\u001b[0m\u001b[1;33m.\u001b[0m\u001b[0mdiagonal\u001b[0m\u001b[1;33m(\u001b[0m\u001b[1;33m)\u001b[0m\u001b[1;33m\u001b[0m\u001b[1;33m\u001b[0m\u001b[0m\n\u001b[0;32m      5\u001b[0m \u001b[0mprint\u001b[0m\u001b[1;33m(\u001b[0m\u001b[1;34m\" \"\u001b[0m\u001b[1;33m)\u001b[0m\u001b[1;33m\u001b[0m\u001b[1;33m\u001b[0m\u001b[0m\n",
      "\u001b[1;31mNameError\u001b[0m: name 'max_a' is not defined"
     ]
    }
   ],
   "source": [
    "from sklearn.metrics import confusion_matrix\n",
    "confusion_matrix = confusion_matrix(y_test,max_a)\n",
    "print(confusion_matrix)\n",
    "N_correct=confusion_matrix.diagonal()\n",
    "print(\" \")\n",
    "print(\"Accuracy calculated using Confusion matrix\", np.sum(N_correct)/np.sum(confusion_matrix)*100)"
   ]
  },
  {
   "cell_type": "markdown",
   "metadata": {},
   "source": [
    "## Train using Multi-Layer Neural Network\n",
    "Neural networks are sometimes described in terms of their depth, including how many layers they have in between the input and output, which are called as hidden layers of the model. The process involves building, compiling and training the model followed with testing for its accuracy. \n",
    "\n",
    "We have built a 5-layer neural network. In the first layer we flatten the input data so that 28*28 is flattened out to 784. The second and third layers have sigmoid activation function with 128 and 64 nodes. Dropout layer has been added for regularization which reduces the overfitting. The last dense layer has softmax activation function. Softmax assigns the probability of input to be labeled into each class and we decide the output of the model as the class having maximum probability. \n",
    "\n",
    "\n",
    "To predict the error rate between the predicted value and the original value we have used Categorical_crossentropy as the loss function and Adam optimizer. It calculates the derivative of the loss function with respect to each weight and subtracts it from the weight."
   ]
  },
  {
   "cell_type": "code",
   "execution_count": 9,
   "metadata": {},
   "outputs": [
    {
     "name": "stderr",
     "output_type": "stream",
     "text": [
      "Using TensorFlow backend.\n"
     ]
    }
   ],
   "source": [
    "import tensorflow as tf \n",
    "from tensorflow import keras\n",
    "from keras.models import Sequential\n",
    "from keras.layers import Dense, Flatten, Dropout\n",
    "X_train, y_train = util_mnist_reader.load_mnist('../data/fashion', kind='train')\n",
    "X_test, y_test = util_mnist_reader.load_mnist('../data/fashion', kind='t10k')\n",
    "# scale the values to a range of 0 to 1 of both data sets\n",
    "X_train=X_train/255.0\n",
    "X_test=X_test/255.0"
   ]
  },
  {
   "cell_type": "code",
   "execution_count": 10,
   "metadata": {},
   "outputs": [
    {
     "name": "stdout",
     "output_type": "stream",
     "text": [
      "WARNING:tensorflow:From C:\\ProgramData\\Anaconda3\\lib\\site-packages\\tensorflow\\python\\ops\\init_ops.py:1251: calling VarianceScaling.__init__ (from tensorflow.python.ops.init_ops) with dtype is deprecated and will be removed in a future version.\n",
      "Instructions for updating:\n",
      "Call initializer instance with the dtype argument instead of passing it to the constructor\n",
      "Model: \"sequential\"\n",
      "_________________________________________________________________\n",
      "Layer (type)                 Output Shape              Param #   \n",
      "=================================================================\n",
      "flatten (Flatten)            (None, 784)               0         \n",
      "_________________________________________________________________\n",
      "dense (Dense)                (None, 128)               100480    \n",
      "_________________________________________________________________\n",
      "dense_1 (Dense)              (None, 64)                8256      \n",
      "_________________________________________________________________\n",
      "dropout (Dropout)            (None, 64)                0         \n",
      "_________________________________________________________________\n",
      "dense_2 (Dense)              (None, 10)                650       \n",
      "=================================================================\n",
      "Total params: 109,386\n",
      "Trainable params: 109,386\n",
      "Non-trainable params: 0\n",
      "_________________________________________________________________\n"
     ]
    }
   ],
   "source": [
    "#Build a 5-layer neural network\n",
    "model = keras.Sequential([\n",
    "    keras.layers.Flatten(input_shape=(28,28)),\n",
    "    keras.layers.Dense(128, activation=tf.nn.sigmoid),\n",
    "    keras.layers.Dense(64, activation=tf.nn.sigmoid),\n",
    "    keras.layers.Dropout(0.3),\n",
    "    keras.layers.Dense(10, activation=tf.nn.softmax),\n",
    "])\n",
    "\n",
    "model.compile(optimizer='adam',loss='sparse_categorical_crossentropy', metrics=['accuracy'])\n",
    "model.summary() "
   ]
  },
  {
   "cell_type": "code",
   "execution_count": 11,
   "metadata": {
    "scrolled": true
   },
   "outputs": [
    {
     "name": "stdout",
     "output_type": "stream",
     "text": [
      "Train on 48000 samples, validate on 12000 samples\n",
      "Epoch 1/5\n",
      "48000/48000 [==============================] - 9s 189us/sample - loss: 0.7441 - acc: 0.7480 - val_loss: 0.4460 - val_acc: 0.8386\n",
      "Epoch 2/5\n",
      "48000/48000 [==============================] - 8s 172us/sample - loss: 0.4532 - acc: 0.8405 - val_loss: 0.3975 - val_acc: 0.8562\n",
      "Epoch 3/5\n",
      "48000/48000 [==============================] - 8s 164us/sample - loss: 0.4045 - acc: 0.8561 - val_loss: 0.3769 - val_acc: 0.8633\n",
      "Epoch 4/5\n",
      "48000/48000 [==============================] - 8s 165us/sample - loss: 0.3764 - acc: 0.8663 - val_loss: 0.3506 - val_acc: 0.8712\n",
      "Epoch 5/5\n",
      "48000/48000 [==============================] - 8s 161us/sample - loss: 0.3547 - acc: 0.8713 - val_loss: 0.3474 - val_acc: 0.8743\n"
     ]
    }
   ],
   "source": [
    "#fit/train the model on training data\n",
    "X_train=np.reshape(X_train,(60000,28,28))\n",
    "model_fit_history=model.fit(X_train, y_train, epochs=5, validation_split=0.2)"
   ]
  },
  {
   "cell_type": "markdown",
   "metadata": {},
   "source": [
    "### Testing Multi-layer Neural Network\n",
    "Test using evaluate function and using confusion matrix"
   ]
  },
  {
   "cell_type": "code",
   "execution_count": 12,
   "metadata": {},
   "outputs": [
    {
     "name": "stdout",
     "output_type": "stream",
     "text": [
      "10000/10000 [==============================] - 1s 51us/sample - loss: 0.3787 - acc: 0.8632\n",
      "Test Loss 37.86728123188019\n",
      "Test Accuracy 86.32000088691711\n"
     ]
    }
   ],
   "source": [
    "X_test=np.reshape(X_test,(10000,28,28))\n",
    "loss, accuracy = model.evaluate(X_test, y_test)\n",
    "print(\"Test Loss\", loss * 100)\n",
    "print(\"Test Accuracy\", accuracy * 100)"
   ]
  },
  {
   "cell_type": "code",
   "execution_count": 13,
   "metadata": {},
   "outputs": [
    {
     "name": "stdout",
     "output_type": "stream",
     "text": [
      "[[795   3  16  24   8   1 139   0  14   0]\n",
      " [  3 961   5  20   7   0   2   0   2   0]\n",
      " [ 10   2 773   5 138   1  64   0   7   0]\n",
      " [ 23  14  28 830  64   1  35   0   5   0]\n",
      " [  0   0 105  12 818   0  59   0   6   0]\n",
      " [  0   0   0   1   0 926   0  48   3  22]\n",
      " [106   1 103  23  90   0 653   0  24   0]\n",
      " [  0   0   0   0   0  18   0 957   0  25]\n",
      " [  0   1   3   3   5   2   6   4 976   0]\n",
      " [  0   0   0   0   0   7   1  49   0 943]]\n",
      " \n",
      "Accuracy calculated using Confusion matrix 86.32\n"
     ]
    }
   ],
   "source": [
    "X_test=np.reshape(X_test,(10000,28,28))\n",
    "predictions = model.predict(X_test)\n",
    "from sklearn.metrics import confusion_matrix\n",
    "confusion_matrix = confusion_matrix(y_test, np.argmax(predictions, axis=1))\n",
    "print(confusion_matrix)\n",
    "N_correct=confusion_matrix.diagonal()\n",
    "print(\" \")\n",
    "print(\"Accuracy calculated using Confusion matrix\", np.sum(N_correct)/np.sum(confusion_matrix)*100)"
   ]
  },
  {
   "cell_type": "code",
   "execution_count": 14,
   "metadata": {
    "scrolled": false
   },
   "outputs": [
    {
     "data": {
      "text/plain": [
       "<matplotlib.legend.Legend at 0x1e44c762c88>"
      ]
     },
     "execution_count": 14,
     "metadata": {},
     "output_type": "execute_result"
    },
    {
     "data": {
      "image/png": "[encoded data removed]",
      "text/plain": [
       "<Figure size 432x288 with 1 Axes>"
      ]
     },
     "metadata": {
      "needs_background": "light"
     },
     "output_type": "display_data"
    }
   ],
   "source": [
    "#Plot loss results for training data and testing data \n",
    "plt.plot(model_fit_history.history['loss'], 'b')\n",
    "plt.plot(model_fit_history.history['val_loss'], 'g')\n",
    "plt.title('Loss vs Epoch')\n",
    "plt.ylabel('Loss')\n",
    "plt.xlabel('No of Epoch')\n",
    "plt.legend(['training set', 'validation set'], loc='upper left')"
   ]
  },
  {
   "cell_type": "markdown",
   "metadata": {},
   "source": [
    "## Train using Convolution Neural Network\n",
    "We have Conv2D layer in 1st layer for the convolution operation to produce a feature map. This is done by sliding a convolution filter over the input. Here we have chosen a feature map with size 3 x 3. 2nd layer we have is a MaxPooling2D layer to reduce the dimensionality of each feature. This helps to shorten training time. Here we have the pooling window with size 2 x 2.\n",
    "\n",
    "We have Dropout layer as the 3rd layer, a powerful regularization technique. This reduces the over fitting. This disables 30% of the neurons randomly in the phase of learning. Next layer flattens the 3D data to 784 input values of 1D vector. Then we have added 2 more dense layers with relu and softmax activation functions which classifies data to 1 out of 10 classes having maximum probability.\n"
   ]
  },
  {
   "cell_type": "code",
   "execution_count": 15,
   "metadata": {},
   "outputs": [
    {
     "name": "stdout",
     "output_type": "stream",
     "text": [
      "WARNING:tensorflow:From C:\\ProgramData\\Anaconda3\\lib\\site-packages\\keras\\backend\\tensorflow_backend.py:74: The name tf.get_default_graph is deprecated. Please use tf.compat.v1.get_default_graph instead.\n",
      "\n",
      "WARNING:tensorflow:From C:\\ProgramData\\Anaconda3\\lib\\site-packages\\keras\\backend\\tensorflow_backend.py:517: The name tf.placeholder is deprecated. Please use tf.compat.v1.placeholder instead.\n",
      "\n",
      "WARNING:tensorflow:From C:\\ProgramData\\Anaconda3\\lib\\site-packages\\keras\\backend\\tensorflow_backend.py:4138: The name tf.random_uniform is deprecated. Please use tf.random.uniform instead.\n",
      "\n",
      "WARNING:tensorflow:From C:\\ProgramData\\Anaconda3\\lib\\site-packages\\keras\\backend\\tensorflow_backend.py:3976: The name tf.nn.max_pool is deprecated. Please use tf.nn.max_pool2d instead.\n",
      "\n",
      "WARNING:tensorflow:From C:\\ProgramData\\Anaconda3\\lib\\site-packages\\keras\\backend\\tensorflow_backend.py:133: The name tf.placeholder_with_default is deprecated. Please use tf.compat.v1.placeholder_with_default instead.\n",
      "\n",
      "WARNING:tensorflow:From C:\\ProgramData\\Anaconda3\\lib\\site-packages\\keras\\backend\\tensorflow_backend.py:3445: calling dropout (from tensorflow.python.ops.nn_ops) with keep_prob is deprecated and will be removed in a future version.\n",
      "Instructions for updating:\n",
      "Please use `rate` instead of `keep_prob`. Rate should be set to `rate = 1 - keep_prob`.\n",
      "WARNING:tensorflow:From C:\\ProgramData\\Anaconda3\\lib\\site-packages\\keras\\optimizers.py:790: The name tf.train.Optimizer is deprecated. Please use tf.compat.v1.train.Optimizer instead.\n",
      "\n"
     ]
    }
   ],
   "source": [
    "import tensorflow as tf\n",
    "from keras.models import Sequential\n",
    "from keras.layers import Dense, Dropout, Flatten\n",
    "from keras.layers import Conv2D, MaxPooling2D\n",
    "from keras.callbacks import TensorBoard\n",
    "from keras.callbacks import ModelCheckpoint\n",
    "from keras.optimizers import adam\n",
    "from tensorflow.contrib.tensorboard.plugins import projector\n",
    "\n",
    "\n",
    "#Data partition and normalization\n",
    "X_train, y_train = util_mnist_reader.load_mnist('../data/fashion', kind='train')\n",
    "X_test, y_test = util_mnist_reader.load_mnist('../data/fashion', kind='t10k')\n",
    "\n",
    "X_train = X_train.reshape(X_train.shape[0], 28, 28, 1)\n",
    "X_train = X_train.astype('float32')\n",
    "X_train /= 255\n",
    "\n",
    "a = np.array(y_train)\n",
    "b = np.zeros((60000, 10))\n",
    "b[np.arange(60000), a] = 1\n",
    "y_train=b\n",
    "\n",
    "X_test = X_test.reshape(X_test.shape[0], 28, 28, 1)\n",
    "X_test = X_test/255.0\n",
    "\n",
    "a = np.array(y_test)\n",
    "b = np.zeros((10000, 10))\n",
    "b[np.arange(10000), a] = 1\n",
    "y_test=b\n",
    "\n",
    "\n",
    "#create the model\n",
    "con = Sequential()\n",
    "con.add(Conv2D(32, kernel_size=(3, 3), activation='relu', input_shape=(28, 28,1)))\n",
    "con.add(MaxPooling2D(pool_size=(2, 2)))\n",
    "con.add(Dropout(0.3))\n",
    "con.add(Flatten())\n",
    "con.add(Dense(128, activation='relu'))\n",
    "con.add(Dense(10, activation='softmax'))\n",
    "\n",
    "opt = adam(lr=0.001, decay=1e-6)\n",
    "con.compile(loss=keras.losses.categorical_crossentropy, optimizer=opt, metrics=['accuracy'])"
   ]
  },
  {
   "cell_type": "code",
   "execution_count": 16,
   "metadata": {},
   "outputs": [
    {
     "name": "stdout",
     "output_type": "stream",
     "text": [
      "_________________________________________________________________\n",
      "Layer (type)                 Output Shape              Param #   \n",
      "=================================================================\n",
      "conv2d_1 (Conv2D)            (None, 26, 26, 32)        320       \n",
      "_________________________________________________________________\n",
      "max_pooling2d_1 (MaxPooling2 (None, 13, 13, 32)        0         \n",
      "_________________________________________________________________\n",
      "dropout_1 (Dropout)          (None, 13, 13, 32)        0         \n",
      "_________________________________________________________________\n",
      "flatten_1 (Flatten)          (None, 5408)              0         \n",
      "_________________________________________________________________\n",
      "dense_1 (Dense)              (None, 128)               692352    \n",
      "_________________________________________________________________\n",
      "dense_2 (Dense)              (None, 10)                1290      \n",
      "=================================================================\n",
      "Total params: 693,962\n",
      "Trainable params: 693,962\n",
      "Non-trainable params: 0\n",
      "_________________________________________________________________\n"
     ]
    }
   ],
   "source": [
    "con.summary()"
   ]
  },
  {
   "cell_type": "code",
   "execution_count": 17,
   "metadata": {},
   "outputs": [
    {
     "name": "stdout",
     "output_type": "stream",
     "text": [
      "WARNING:tensorflow:From C:\\ProgramData\\Anaconda3\\lib\\site-packages\\keras\\backend\\tensorflow_backend.py:986: The name tf.assign_add is deprecated. Please use tf.compat.v1.assign_add instead.\n",
      "\n",
      "Train on 48000 samples, validate on 12000 samples\n",
      "Epoch 1/5\n",
      "48000/48000 [==============================] - 29s 600us/step - loss: 0.7441 - acc: 0.7443 - val_loss: 0.4678 - val_acc: 0.8323\n",
      "Epoch 2/5\n",
      "48000/48000 [==============================] - 27s 568us/step - loss: 0.4296 - acc: 0.8497 - val_loss: 0.3931 - val_acc: 0.8617\n",
      "Epoch 3/5\n",
      "48000/48000 [==============================] - 27s 569us/step - loss: 0.3782 - acc: 0.8677 - val_loss: 0.3610 - val_acc: 0.8718\n",
      "Epoch 4/5\n",
      "48000/48000 [==============================] - 27s 559us/step - loss: 0.3531 - acc: 0.8767 - val_loss: 0.3432 - val_acc: 0.8767\n",
      "Epoch 5/5\n",
      "48000/48000 [==============================] - 27s 562us/step - loss: 0.3286 - acc: 0.8855 - val_loss: 0.3231 - val_acc: 0.8848\n"
     ]
    }
   ],
   "source": [
    "#train the model\n",
    "history= con.fit(X_train, y_train,batch_size=1000,epochs=5,verbose=1,validation_split=0.2,)"
   ]
  },
  {
   "cell_type": "markdown",
   "metadata": {},
   "source": [
    "### Testing Convolution Neural Network  "
   ]
  },
  {
   "cell_type": "code",
   "execution_count": 18,
   "metadata": {},
   "outputs": [
    {
     "name": "stdout",
     "output_type": "stream",
     "text": [
      "Test loss: 33.86048345208168 Percent\n",
      "Test accuracy: 87.92999999999999 Percent\n"
     ]
    }
   ],
   "source": [
    "#test for the test data and set the accuracy\n",
    "score = con.evaluate(X_test, y_test, verbose=0)\n",
    "print('Test loss:', score[0]*100, \"Percent\")\n",
    "print('Test accuracy:', score[1]*100, \"Percent\")"
   ]
  },
  {
   "cell_type": "code",
   "execution_count": 19,
   "metadata": {},
   "outputs": [
    {
     "data": {
      "image/png": "[encoded data removed]",
      "text/plain": [
       "<Figure size 432x288 with 1 Axes>"
      ]
     },
     "metadata": {
      "needs_background": "light"
     },
     "output_type": "display_data"
    }
   ],
   "source": [
    "#Plot a graph Training and validation loss vs Epoch\n",
    "\n",
    "accuracy = history.history['acc']\n",
    "val_accuracy = history.history['val_acc']\n",
    "loss = history.history['loss']\n",
    "val_loss = history.history['val_loss']\n",
    "epochs = range(len(accuracy))\n",
    "\n",
    "plt.plot(epochs, loss, 'g', label='Training loss')\n",
    "plt.plot(epochs, val_loss, 'b', label='Validation loss')\n",
    "plt.title('Training and validation loss vs Epochs')\n",
    "plt.legend()\n",
    "plt.show()\n"
   ]
  },
  {
   "cell_type": "code",
   "execution_count": 20,
   "metadata": {},
   "outputs": [
    {
     "data": {
      "image/png": "[encoded data removed]",
      "text/plain": [
       "<Figure size 432x288 with 1 Axes>"
      ]
     },
     "metadata": {
      "needs_background": "light"
     },
     "output_type": "display_data"
    }
   ],
   "source": [
    "#graph for training and validation accuracy vs epoch\n",
    "plt.plot(epochs, accuracy, 'g', label='Training accuracy')\n",
    "plt.plot(epochs, val_accuracy, 'b', label='Validation accuracy')\n",
    "plt.title('Training and validation accuracy vs epochs')\n",
    "plt.legend()\n",
    "plt.show()"
   ]
  },
  {
   "cell_type": "markdown",
   "metadata": {},
   "source": [
    "## Conclusion\n",
    "Our project successfully implements neural network and convolutional neural network for the task of classification into 10 classes with the acuuracy of 84 percent in one hidden layer NN , 85 percent in multi layer NN and 88 percent in convolution NN.\n",
    "\n",
    "Project helps us understand practical use of hidden layers, drop-off layer, different activation functions, convolution neural network, tuning hyper-parameters and visualizing the results along with the theoretical knowledge.\n"
   ]
  },
  {
   "cell_type": "code",
   "execution_count": null,
   "metadata": {},
   "outputs": [],
   "source": []
  }
 ],
 "metadata": {
  "kernelspec": {
   "display_name": "Python 3",
   "language": "python",
   "name": "python3"
  },
  "language_info": {
   "codemirror_mode": {
    "name": "ipython",
    "version": 3
   },
   "file_extension": ".py",
   "mimetype": "text/x-python",
   "name": "python",
   "nbconvert_exporter": "python",
   "pygments_lexer": "ipython3",
   "version": "3.7.3"
  }
 },
 "nbformat": 4,
 "nbformat_minor": 2
}
